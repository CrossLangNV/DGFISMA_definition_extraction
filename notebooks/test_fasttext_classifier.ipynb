{
 "cells": [
  {
   "cell_type": "code",
   "execution_count": 1,
   "metadata": {},
   "outputs": [
    {
     "data": {
      "text/html": [
       "<style>.container { width:99% !important; }</style>"
      ],
      "text/plain": [
       "<IPython.core.display.HTML object>"
      ]
     },
     "metadata": {},
     "output_type": "display_data"
    }
   ],
   "source": [
    "import sys\n",
    "import pandas as pd\n",
    "import os\n",
    "import re\n",
    "import glob\n",
    "import shutil\n",
    "import numpy as np\n",
    "#import matplotlib.pyplot as plt\n",
    "#import skimage\n",
    "from pathlib import Path\n",
    "import shutil\n",
    "from base64 import b64encode\n",
    "from base64 import b64decode\n",
    "\n",
    "#plt.rcParams[\"figure.figsize\"] = (10,10)\n",
    "\n",
    "from IPython.core.display import display, HTML\n",
    "# make the Jupyter notebook use the full screen width\n",
    "display(HTML(\"<style>.container { width:99% !important; }</style>\"))"
   ]
  },
  {
   "cell_type": "code",
   "execution_count": 67,
   "metadata": {},
   "outputs": [],
   "source": [
    "import random\n",
    "random.seed(10)\n",
    "\n",
    "definitions=open( \"/notebook/nas-trainings/arne/DGFISMA/definition_extraction/notebooks/bootstrapped_training_set/iteration_1/training_set_def\").read().strip(\"\\n\").split(\"\\n\")\n",
    "no_definitions=open( \"/notebook/nas-trainings/arne/DGFISMA/definition_extraction/notebooks/bootstrapped_training_set/iteration_1/training_set_no_def\").read().strip(\"\\n\").split(\"\\n\")\n",
    "\n",
    "training_set=[]\n",
    "\n",
    "for definition in definitions:\n",
    "    training_set.append( (definition, 1 ) )\n",
    "\n",
    "for no_definition in no_definitions:\n",
    "    training_set.append( (  no_definition, 0 ) )\n",
    "        \n",
    "        \n",
    "wikipedia_def=open( \"/notebook/nas-trainings/arne/DGFISMA/definition_extraction/notebooks/bootstrapped_training_set/wikipedia_definitions\" ).read().strip(\"\\n\").split(\"\\n\")\n",
    "for sentence in wikipedia_def:\n",
    "    if \"/DEF\" in sentence:\n",
    "        sentence=sentence.replace( \"/TERM\", \"\").replace( \"/DEF\", \"\" ).replace( \"/O\", \"\" ).replace( \"-LBR-\" , \"(\" ).replace( \"-RBR-\", \")\" ).replace( \"&amp\", \"&\").replace( \"&nbsp\", \" \")\n",
    "        training_set.append( ( sentence, 1  )   )\n",
    "    else:\n",
    "        training_set.append( ( sentence, 0  )   )\n",
    "        \n",
    "        \n",
    "random.shuffle( training_set )\n",
    "\n",
    "valid_set=training_set[ :200  ]\n",
    "train_set=training_set[  200: ]\n",
    "\n",
    "with open('/notebook/nas-trainings/arne/DGFISMA/definition_extraction/notebooks/bootstrapped_training_set/iteration_1/train_fasttext.txt' , \"w\" ) as f:\n",
    "    for text, label in train_set:\n",
    "        if label==1:\n",
    "            f.write( f'__label__definition {text}\\n'   )\n",
    "        else:\n",
    "            f.write( f'__label__no_definition {text}\\n'   )\n",
    "            \n",
    "with open('/notebook/nas-trainings/arne/DGFISMA/definition_extraction/notebooks/bootstrapped_training_set/iteration_1/valid_fasttext.txt' , \"w\" ) as f:\n",
    "    for text, label in valid_set:\n",
    "        if label==1:\n",
    "            f.write( f'__label__definition {text}\\n'   )\n",
    "        else:\n",
    "            f.write( f'__label__no_definition {text}\\n'   )"
   ]
  },
  {
   "cell_type": "code",
   "execution_count": 68,
   "metadata": {},
   "outputs": [],
   "source": [
    "import fasttext\n",
    "model = fasttext.train_supervised( input= '/notebook/nas-trainings/arne/DGFISMA/definition_extraction/notebooks/bootstrapped_training_set/iteration_1/train_fasttext.txt', \n",
    "                                 epoch=200, \n",
    "                                dim=100,\n",
    "                                  minCount=5,\n",
    "                                  ws=1,\n",
    "                                 )\n",
    "model.save_model(\"/notebook/nas-trainings/arne/DGFISMA/definition_extraction/notebooks/bootstrapped_training_set/iteration_1/model_fasttext.bin\")"
   ]
  },
  {
   "cell_type": "code",
   "execution_count": 69,
   "metadata": {},
   "outputs": [
    {
     "name": "stdout",
     "output_type": "stream",
     "text": [
      "              precision    recall  f1-score   support\n",
      "\n",
      "           0       0.74      0.86      0.79        29\n",
      "           1       0.83      0.69      0.75        29\n",
      "\n",
      "   micro avg       0.78      0.78      0.78        58\n",
      "   macro avg       0.78      0.78      0.77        58\n",
      "weighted avg       0.78      0.78      0.77        58\n",
      "\n"
     ]
    }
   ],
   "source": [
    "from sklearn.metrics import classification_report\n",
    "\n",
    "test_sentences=open( \"/notebook/nas-trainings/arne/DGFISMA/definition_extraction/notebooks/bootstrapped_training_set/iteration_1/test_sentences\"  ).read().strip( \"\\n\" ).split(\"\\n\")\n",
    "pred_labels=model.predict( test_sentences  )[0]\n",
    "pred_labels=[ 1 if label[0] == \"__label__definition\" else 0 for label in pred_labels  ]\n",
    "\n",
    "test_labels=open( \"/notebook/nas-trainings/arne/DGFISMA/definition_extraction/notebooks/bootstrapped_training_set/iteration_1/test_labels\"  ).read().strip( \"\\n\" ).split( \"\\n\" )\n",
    "test_labels=[ int(label)  for label in test_labels  ]\n",
    "\n",
    "print( classification_report( test_labels, pred_labels  )  )"
   ]
  },
  {
   "cell_type": "code",
   "execution_count": 71,
   "metadata": {},
   "outputs": [
    {
     "name": "stdout",
     "output_type": "stream",
     "text": [
      "1 1\n",
      "2 1\n",
      "3 1\n",
      "4 0\n",
      "5 1\n",
      "6 1\n",
      "7 1\n",
      "8 0\n",
      "9 0\n",
      "10 1\n",
      "11 1\n",
      "12 0\n",
      "13 0\n",
      "14 1\n",
      "15 1\n",
      "16 1\n",
      "17 1\n",
      "18 1\n",
      "19 0\n",
      "20 1\n",
      "21 0\n",
      "22 0\n",
      "23 1\n",
      "24 1\n",
      "25 1\n",
      "26 1\n",
      "27 1\n",
      "28 1\n",
      "29 0\n",
      "30 0\n",
      "31 0\n",
      "32 0\n",
      "33 0\n",
      "34 0\n",
      "35 0\n",
      "36 0\n",
      "37 0\n",
      "38 0\n",
      "39 0\n",
      "40 0\n",
      "41 0\n",
      "42 1\n",
      "43 1\n",
      "44 0\n",
      "45 0\n",
      "46 0\n",
      "47 0\n",
      "48 0\n",
      "49 0\n",
      "50 1\n",
      "51 1\n",
      "52 0\n",
      "53 0\n",
      "54 0\n",
      "55 0\n",
      "56 0\n",
      "57 0\n",
      "58 0\n"
     ]
    }
   ],
   "source": [
    "for i,pred in enumerate( pred_labels ):\n",
    "    print( i+1 , pred )"
   ]
  },
  {
   "cell_type": "code",
   "execution_count": 2,
   "metadata": {},
   "outputs": [
    {
     "name": "stdout",
     "output_type": "stream",
     "text": [
      "someh\n"
     ]
    }
   ],
   "source": [
    "print(\"someh\")"
   ]
  },
  {
   "cell_type": "code",
   "execution_count": null,
   "metadata": {},
   "outputs": [],
   "source": []
  },
  {
   "cell_type": "code",
   "execution_count": null,
   "metadata": {},
   "outputs": [],
   "source": []
  },
  {
   "cell_type": "code",
   "execution_count": null,
   "metadata": {},
   "outputs": [],
   "source": [
    "__label__restaurant michelin three star restaurant; but if the chef is not there\n"
   ]
  }
 ],
 "metadata": {
  "kernelspec": {
   "display_name": "Python 3",
   "language": "python",
   "name": "python3"
  },
  "language_info": {
   "codemirror_mode": {
    "name": "ipython",
    "version": 3
   },
   "file_extension": ".py",
   "mimetype": "text/x-python",
   "name": "python",
   "nbconvert_exporter": "python",
   "pygments_lexer": "ipython3",
   "version": "3.7.3"
  }
 },
 "nbformat": 4,
 "nbformat_minor": 4
}
