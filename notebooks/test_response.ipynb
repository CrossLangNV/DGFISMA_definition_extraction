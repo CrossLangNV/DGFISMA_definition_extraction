{
 "cells": [
  {
   "cell_type": "code",
   "execution_count": 1,
   "metadata": {},
   "outputs": [],
   "source": [
    "from cassis.typesystem import load_typesystem\n",
    "from cassis.xmi import load_cas_from_xmi"
   ]
  },
  {
   "cell_type": "markdown",
   "metadata": {},
   "source": [
    "#### Get the CAS from json"
   ]
  },
  {
   "cell_type": "code",
   "execution_count": 2,
   "metadata": {},
   "outputs": [],
   "source": [
    "import json\n",
    "import base64\n",
    "\n",
    "with open(\"/notebook/nas-trainings/arne/DGFISMA_definition_extraction/tests/test_files/typesystems/typesystem.xml\", 'rb') as f:\n",
    "    typesystem = load_typesystem(f)\n",
    "    \n",
    "with open('../tests/test_files/response_json/small_nested_tables_response.json') as json_file:\n",
    "    response = json.load(json_file)\n",
    "\n",
    "decoded_cas_response=base64.b64decode( response[ 'cas_content' ] ).decode( 'utf-8' )\n",
    "    \n",
    "cas = load_cas_from_xmi( decoded_cas_response , typesystem=typesystem)"
   ]
  },
  {
   "cell_type": "code",
   "execution_count": 8,
   "metadata": {},
   "outputs": [
    {
     "name": "stdout",
     "output_type": "stream",
     "text": [
      "The total amount of annual contributions to be raised for a given financial year shall be calculated on the basis of Part I of the budget adopted by the Board for that financial year in accordance with Article 61 of Regulation (EU) No 806/2014, adjusted by the result of the budget of the latest financial year for which the final accounts have been published in accordance with Article 63(7) of that Regulation.\n",
      "1.   The total amount to be raised in accordance with Article 3 shall be allocated as follows:\n",
      "‘annual supervisory fee’ means individual annual contribution;\n",
      "‘significant supervised entity’ or ‘significant supervised group’ means an entity or group as referred to in Article 4(1)(a);\n",
      "‘less significant supervised entity’ or ‘less significant supervised group’ means an entity or group as referred to in Article 4(1)(b);\n",
      "‘supervised entity’ or ‘supervised group’ means any entity or group;\n",
      "‘fee debtor’ means contribution debtor.\n"
     ]
    }
   ],
   "source": [
    "cas_view=cas.get_view( 'html2textView' )\n",
    "for sentence in cas_view.select( 'de.tudarmstadt.ukp.dkpro.core.api.segmentation.type.Sentence' ):\n",
    "    print( sentence.get_covered_text() )"
   ]
  },
  {
   "cell_type": "code",
   "execution_count": 9,
   "metadata": {},
   "outputs": [
    {
     "data": {
      "text/plain": [
       "[de_tudarmstadt_ukp_dkpro_core_api_segmentation_type_Sentence(xmiID=3630, id='definition', begin=90, end=502, type='de.tudarmstadt.ukp.dkpro.core.api.segmentation.type.Sentence'),\n",
       " de_tudarmstadt_ukp_dkpro_core_api_segmentation_type_Sentence(xmiID=3631, id='definition', begin=702, end=796, type='de.tudarmstadt.ukp.dkpro.core.api.segmentation.type.Sentence'),\n",
       " de_tudarmstadt_ukp_dkpro_core_api_segmentation_type_Sentence(xmiID=3632, id='definition', begin=4051, end=4113, type='de.tudarmstadt.ukp.dkpro.core.api.segmentation.type.Sentence'),\n",
       " de_tudarmstadt_ukp_dkpro_core_api_segmentation_type_Sentence(xmiID=3633, id='definition', begin=4270, end=4395, type='de.tudarmstadt.ukp.dkpro.core.api.segmentation.type.Sentence'),\n",
       " de_tudarmstadt_ukp_dkpro_core_api_segmentation_type_Sentence(xmiID=3634, id='definition', begin=4552, end=4687, type='de.tudarmstadt.ukp.dkpro.core.api.segmentation.type.Sentence'),\n",
       " de_tudarmstadt_ukp_dkpro_core_api_segmentation_type_Sentence(xmiID=3635, id='definition', begin=4844, end=4912, type='de.tudarmstadt.ukp.dkpro.core.api.segmentation.type.Sentence'),\n",
       " de_tudarmstadt_ukp_dkpro_core_api_segmentation_type_Sentence(xmiID=3636, id='definition', begin=5069, end=5108, type='de.tudarmstadt.ukp.dkpro.core.api.segmentation.type.Sentence')]"
      ]
     },
     "execution_count": 9,
     "metadata": {},
     "output_type": "execute_result"
    }
   ],
   "source": [
    "list( cas_view.select( 'de.tudarmstadt.ukp.dkpro.core.api.segmentation.type.Sentence' ) )"
   ]
  },
  {
   "cell_type": "code",
   "execution_count": null,
   "metadata": {},
   "outputs": [],
   "source": []
  },
  {
   "cell_type": "code",
   "execution_count": null,
   "metadata": {},
   "outputs": [],
   "source": []
  }
 ],
 "metadata": {
  "kernelspec": {
   "display_name": "Python 3",
   "language": "python",
   "name": "python3"
  },
  "language_info": {
   "codemirror_mode": {
    "name": "ipython",
    "version": 3
   },
   "file_extension": ".py",
   "mimetype": "text/x-python",
   "name": "python",
   "nbconvert_exporter": "python",
   "pygments_lexer": "ipython3",
   "version": "3.7.3"
  }
 },
 "nbformat": 4,
 "nbformat_minor": 4
}
