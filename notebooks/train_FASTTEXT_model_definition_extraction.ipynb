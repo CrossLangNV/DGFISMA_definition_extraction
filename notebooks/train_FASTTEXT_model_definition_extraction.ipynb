{
 "cells": [
  {
   "cell_type": "code",
   "execution_count": 1,
   "metadata": {},
   "outputs": [
    {
     "data": {
      "text/html": [
       "<style>.container { width:99% !important; }</style>"
      ],
      "text/plain": [
       "<IPython.core.display.HTML object>"
      ]
     },
     "metadata": {},
     "output_type": "display_data"
    }
   ],
   "source": [
    "import sys\n",
    "import pandas as pd\n",
    "import os\n",
    "import re\n",
    "import glob\n",
    "import shutil\n",
    "import numpy as np\n",
    "#import matplotlib.pyplot as plt\n",
    "#import skimage\n",
    "from pathlib import Path\n",
    "import shutil\n",
    "from base64 import b64encode\n",
    "from base64 import b64decode\n",
    "\n",
    "#plt.rcParams[\"figure.figsize\"] = (10,10)\n",
    "\n",
    "from IPython.core.display import display, HTML\n",
    "# make the Jupyter notebook use the full screen width\n",
    "display(HTML(\"<style>.container { width:99% !important; }</style>\"))"
   ]
  },
  {
   "cell_type": "code",
   "execution_count": 2,
   "metadata": {},
   "outputs": [],
   "source": [
    "PATH=\"/notebook/nas-trainings/arne/DGFISMA/DATA/\""
   ]
  },
  {
   "cell_type": "code",
   "execution_count": 3,
   "metadata": {},
   "outputs": [],
   "source": [
    "import random\n",
    "random.seed(10)\n",
    "\n",
    "\n",
    "definitions=open( os.path.join( PATH , \"definition_extraction/bootstrapped_training_set/iteration_1/training_set_def\" ) ).read().strip(\"\\n\").split(\"\\n\")\n",
    "no_definitions=open( os.path.join( PATH , \"definition_extraction/bootstrapped_training_set/iteration_1/training_set_no_def\" ) ).read().strip(\"\\n\").split(\"\\n\")\n",
    "\n",
    "training_set=[]\n",
    "\n",
    "for definition in definitions:\n",
    "    training_set.append( (definition, 1 ) )\n",
    "\n",
    "for no_definition in no_definitions:\n",
    "    training_set.append( (  no_definition, 0 ) )\n",
    "        \n",
    "        \n",
    "wikipedia_def=open( os.path.join( PATH, \"definition_extraction/bootstrapped_training_set/wikipedia_definitions\" )    ).read().strip(\"\\n\").split(\"\\n\")\n",
    "for sentence in wikipedia_def:\n",
    "    if \"/DEF\" in sentence:\n",
    "        sentence=sentence.replace( \"/TERM\", \"\").replace( \"/DEF\", \"\" ).replace( \"/O\", \"\" ).replace( \"-LBR-\" , \"(\" ).replace( \"-RBR-\", \")\" ).replace( \"&amp\", \"&\").replace( \"&nbsp\", \" \")\n",
    "        training_set.append( ( sentence, 1  )   )\n",
    "    else:\n",
    "        training_set.append( ( sentence, 0  )   )\n",
    "        \n",
    "        \n",
    "random.shuffle( training_set )\n",
    "\n",
    "valid_set=training_set[ :200  ]\n",
    "train_set=training_set[  200: ]\n",
    "\n",
    "with open( os.path.join(  PATH, \"definition_extraction/bootstrapped_training_set/iteration_1/train_fasttext.txt\" ) , \"w\" ) as f:\n",
    "    for text, label in train_set:\n",
    "        if label==1:\n",
    "            f.write( f'__label__definition {text}\\n'   )\n",
    "        else:\n",
    "            f.write( f'__label__no_definition {text}\\n'   )\n",
    "            \n",
    "with open( os.path.join(  PATH, \"definition_extraction/bootstrapped_training_set/iteration_1/valid_fasttext.txt\" )   , \"w\" ) as f:\n",
    "    for text, label in valid_set:\n",
    "        if label==1:\n",
    "            f.write( f'__label__definition {text}\\n'   )\n",
    "        else:\n",
    "            f.write( f'__label__no_definition {text}\\n'   )"
   ]
  },
  {
   "cell_type": "code",
   "execution_count": 5,
   "metadata": {},
   "outputs": [],
   "source": [
    "import fasttext\n",
    "model = fasttext.train_supervised( input= os.path.join(  PATH, \"definition_extraction/bootstrapped_training_set/iteration_1/train_fasttext.txt\" ), \n",
    "                                 epoch=200, \n",
    "                                dim=100,\n",
    "                                  minCount=5,\n",
    "                                  ws=1,\n",
    "                                 )\n",
    "model.save_model( os.path.join( PATH, \"definition_extraction/bootstrapped_training_set/iteration_1/model_fasttext.bin\" ) )"
   ]
  },
  {
   "cell_type": "code",
   "execution_count": 6,
   "metadata": {},
   "outputs": [
    {
     "name": "stdout",
     "output_type": "stream",
     "text": [
      "              precision    recall  f1-score   support\n",
      "\n",
      "           0       0.73      0.83      0.77        29\n",
      "           1       0.80      0.69      0.74        29\n",
      "\n",
      "   micro avg       0.76      0.76      0.76        58\n",
      "   macro avg       0.76      0.76      0.76        58\n",
      "weighted avg       0.76      0.76      0.76        58\n",
      "\n"
     ]
    },
    {
     "name": "stderr",
     "output_type": "stream",
     "text": [
      "Warning : `load_model` does not return WordVectorModel or SupervisedModel any more, but a `FastText` object which is very similar.\n"
     ]
    }
   ],
   "source": [
    "from sklearn.metrics import classification_report\n",
    "\n",
    "model = fasttext.load_model( os.path.join( PATH, \"definition_extraction/bootstrapped_training_set/iteration_1/model_fasttext.bin\" )  )\n",
    "\n",
    "#sanity check:\n",
    "assert( set(model.labels) == set( [ \"__label__no_definition\" , \"__label__definition\" ] )  )\n",
    "\n",
    "test_sentences=open(  os.path.join( PATH, \"definition_extraction/bootstrapped_training_set/iteration_1/test_sentences\" )    ).read().strip( \"\\n\" ).split(\"\\n\")\n",
    "pred_labels=model.predict( test_sentences  )[0]\n",
    "pred_labels=[ 1 if label[0] == \"__label__definition\" else 0 for label in pred_labels  ]  #explicitely use the labels \n",
    "\n",
    "test_labels=open( os.path.join( PATH, \"definition_extraction/bootstrapped_training_set/iteration_1/test_labels\" )  ).read().strip( \"\\n\" ).split( \"\\n\" )\n",
    "test_labels=[ int(label)  for label in test_labels  ]\n",
    "\n",
    "print( classification_report( test_labels, pred_labels  )  )"
   ]
  },
  {
   "cell_type": "code",
   "execution_count": null,
   "metadata": {},
   "outputs": [],
   "source": [
    "      precision    recall  f1-score   support\n",
    "\n",
    "           0       0.73      0.83      0.77        29\n",
    "           1       0.80      0.69      0.74        29\n",
    "\n",
    "   micro avg       0.76      0.76      0.76        58\n",
    "   macro avg       0.76      0.76      0.76        58\n",
    "weighted avg       0.76      0.76      0.76        58\n"
   ]
  },
  {
   "cell_type": "code",
   "execution_count": null,
   "metadata": {},
   "outputs": [],
   "source": []
  },
  {
   "cell_type": "code",
   "execution_count": null,
   "metadata": {},
   "outputs": [],
   "source": []
  },
  {
   "cell_type": "code",
   "execution_count": null,
   "metadata": {},
   "outputs": [],
   "source": []
  },
  {
   "cell_type": "code",
   "execution_count": null,
   "metadata": {},
   "outputs": [],
   "source": []
  },
  {
   "cell_type": "code",
   "execution_count": 26,
   "metadata": {},
   "outputs": [
    {
     "name": "stdout",
     "output_type": "stream",
     "text": [
      "df\n"
     ]
    },
    {
     "ename": "ValueError",
     "evalue": "Fasttext model labels ['__label__no_definition', '__label__definition'] should match \"pos_label\" and \"neg_label\".",
     "output_type": "error",
     "traceback": [
      "\u001b[0;31m\u001b[0m",
      "\u001b[0;31mAssertionError\u001b[0mTraceback (most recent call last)",
      "\u001b[0;32m<ipython-input-26-e3ad21a764a0>\u001b[0m in \u001b[0;36m<module>\u001b[0;34m\u001b[0m\n\u001b[1;32m      1\u001b[0m \u001b[0;32mtry\u001b[0m\u001b[0;34m:\u001b[0m\u001b[0;34m\u001b[0m\u001b[0;34m\u001b[0m\u001b[0m\n\u001b[0;32m----> 2\u001b[0;31m     \u001b[0;32massert\u001b[0m\u001b[0;34m(\u001b[0m \u001b[0mset\u001b[0m\u001b[0;34m(\u001b[0m\u001b[0mmodel\u001b[0m\u001b[0;34m.\u001b[0m\u001b[0mlabels\u001b[0m\u001b[0;34m)\u001b[0m \u001b[0;34m==\u001b[0m \u001b[0mset\u001b[0m\u001b[0;34m(\u001b[0m \u001b[0;34m[\u001b[0m \u001b[0;34m\"__label__no_definitions\"\u001b[0m \u001b[0;34m,\u001b[0m \u001b[0;34m\"__label__definition\"\u001b[0m \u001b[0;34m]\u001b[0m \u001b[0;34m)\u001b[0m  \u001b[0;34m)\u001b[0m\u001b[0;34m\u001b[0m\u001b[0;34m\u001b[0m\u001b[0m\n\u001b[0m\u001b[1;32m      3\u001b[0m \u001b[0;32mexcept\u001b[0m \u001b[0mAssertionError\u001b[0m\u001b[0;34m:\u001b[0m\u001b[0;34m\u001b[0m\u001b[0;34m\u001b[0m\u001b[0m\n",
      "\u001b[0;31mAssertionError\u001b[0m: ",
      "\nDuring handling of the above exception, another exception occurred:\n",
      "\u001b[0;31mValueError\u001b[0mTraceback (most recent call last)",
      "\u001b[0;32m<ipython-input-26-e3ad21a764a0>\u001b[0m in \u001b[0;36m<module>\u001b[0;34m\u001b[0m\n\u001b[1;32m      3\u001b[0m \u001b[0;32mexcept\u001b[0m \u001b[0mAssertionError\u001b[0m\u001b[0;34m:\u001b[0m\u001b[0;34m\u001b[0m\u001b[0;34m\u001b[0m\u001b[0m\n\u001b[1;32m      4\u001b[0m     \u001b[0mprint\u001b[0m\u001b[0;34m(\u001b[0m\u001b[0;34m\"df\"\u001b[0m\u001b[0;34m)\u001b[0m\u001b[0;34m\u001b[0m\u001b[0;34m\u001b[0m\u001b[0m\n\u001b[0;32m----> 5\u001b[0;31m     \u001b[0;32mraise\u001b[0m \u001b[0mValueError\u001b[0m\u001b[0;34m(\u001b[0m\u001b[0;34mf'Fasttext model labels {model.labels} should match \"pos_label\" and \"neg_label\".'\u001b[0m  \u001b[0;34m)\u001b[0m\u001b[0;34m\u001b[0m\u001b[0;34m\u001b[0m\u001b[0m\n\u001b[0m",
      "\u001b[0;31mValueError\u001b[0m: Fasttext model labels ['__label__no_definition', '__label__definition'] should match \"pos_label\" and \"neg_label\"."
     ]
    }
   ],
   "source": [
    "try:\n",
    "    assert( set(model.labels) == set( [ \"__label__no_definitions\" , \"__label__definition\" ] )  )\n",
    "except AssertionError:\n",
    "    print(\"df\")\n",
    "    raise ValueError(f'Fasttext model labels {model.labels} should match \"pos_label\" and \"neg_label\".'  )"
   ]
  },
  {
   "cell_type": "code",
   "execution_count": null,
   "metadata": {},
   "outputs": [],
   "source": []
  }
 ],
 "metadata": {
  "kernelspec": {
   "display_name": "Python 3",
   "language": "python",
   "name": "python3"
  },
  "language_info": {
   "codemirror_mode": {
    "name": "ipython",
    "version": 3
   },
   "file_extension": ".py",
   "mimetype": "text/x-python",
   "name": "python",
   "nbconvert_exporter": "python",
   "pygments_lexer": "ipython3",
   "version": "3.7.3"
  }
 },
 "nbformat": 4,
 "nbformat_minor": 4
}
